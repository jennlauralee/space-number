{
 "cells": [
  {
   "cell_type": "code",
   "execution_count": 1,
   "metadata": {},
   "outputs": [
    {
     "ename": "FileNotFoundError",
     "evalue": "[Errno 2] No such file or directory: '/Users/jennlauralee/Space-Number/DATA'",
     "output_type": "error",
     "traceback": [
      "\u001b[0;31m---------------------------------------------------------------------------\u001b[0m",
      "\u001b[0;31mFileNotFoundError\u001b[0m                         Traceback (most recent call last)",
      "\u001b[0;32m<ipython-input-1-b28c6f48ba55>\u001b[0m in \u001b[0;36m<module>\u001b[0;34m\u001b[0m\n\u001b[1;32m      4\u001b[0m \u001b[0;32mimport\u001b[0m \u001b[0mos\u001b[0m\u001b[0;34m\u001b[0m\u001b[0;34m\u001b[0m\u001b[0m\n\u001b[1;32m      5\u001b[0m \u001b[0;34m\u001b[0m\u001b[0m\n\u001b[0;32m----> 6\u001b[0;31m \u001b[0mos\u001b[0m\u001b[0;34m.\u001b[0m\u001b[0mchdir\u001b[0m\u001b[0;34m(\u001b[0m\u001b[0;34m'/Users/jennlauralee/Space-Number/DATA'\u001b[0m\u001b[0;34m)\u001b[0m\u001b[0;34m\u001b[0m\u001b[0;34m\u001b[0m\u001b[0m\n\u001b[0m\u001b[1;32m      7\u001b[0m \u001b[0;34m\u001b[0m\u001b[0m\n\u001b[1;32m      8\u001b[0m \u001b[0msubIDs\u001b[0m \u001b[0;34m=\u001b[0m \u001b[0;34m[\u001b[0m\u001b[0;34m'S1-NJ'\u001b[0m\u001b[0;34m,\u001b[0m \u001b[0;34m'S2-SC'\u001b[0m\u001b[0;34m,\u001b[0m \u001b[0;34m'S3-DA'\u001b[0m\u001b[0;34m,\u001b[0m \u001b[0;34m'S4-ZY'\u001b[0m\u001b[0;34m,\u001b[0m \u001b[0;34m'S5-DG'\u001b[0m\u001b[0;34m,\u001b[0m \u001b[0;34m'S6-MG'\u001b[0m\u001b[0;34m,\u001b[0m \u001b[0;34m'S7-BA'\u001b[0m\u001b[0;34m,\u001b[0m \u001b[0;34m'S8-RF'\u001b[0m\u001b[0;34m,\u001b[0m \u001b[0;34m'S9-HL'\u001b[0m\u001b[0;34m,\u001b[0m \u001b[0;34m'S10-TW'\u001b[0m\u001b[0;34m]\u001b[0m\u001b[0;34m\u001b[0m\u001b[0;34m\u001b[0m\u001b[0m\n",
      "\u001b[0;31mFileNotFoundError\u001b[0m: [Errno 2] No such file or directory: '/Users/jennlauralee/Space-Number/DATA'"
     ]
    }
   ],
   "source": [
    "import numpy as np\n",
    "import pandas as pd\n",
    "import scipy.io\n",
    "import os\n",
    "\n",
    "os.chdir('/Users/jennlauralee/GitHub Repos/space-number/DATA')\n",
    "\n",
    "subIDs = ['S1-NJ', 'S2-SC', 'S3-DA', 'S4-ZY', 'S5-DG', 'S6-MG', 'S7-BA', 'S8-RF', 'S9-HL', 'S10-TW']"
   ]
  },
  {
   "cell_type": "code",
   "execution_count": 21,
   "metadata": {},
   "outputs": [],
   "source": [
    "currsub = pd.read_pickle(subIDs[0] + '.pkl')"
   ]
  },
  {
   "cell_type": "code",
   "execution_count": 30,
   "metadata": {},
   "outputs": [],
   "source": [
    "allsub = pd.DataFrame()\n",
    "for i_sub in range(0,10):\n",
    "    currsub = pd.read_pickle(subIDs[i_sub] + '.pkl')\n",
    "    currsub = currsub.assign(Sub_ID = i_sub+1)\n",
    "    \n",
    "    allsub = allsub.append(currsub)"
   ]
  },
  {
   "cell_type": "code",
   "execution_count": 4,
   "metadata": {},
   "outputs": [],
   "source": [
    "#allsub.to_pickle('alldata.pkl')"
   ]
  },
  {
   "cell_type": "code",
   "execution_count": 9,
   "metadata": {},
   "outputs": [],
   "source": [
    "#allsub.to_csv('alldata.csv')"
   ]
  },
  {
   "cell_type": "code",
   "execution_count": 75,
   "metadata": {},
   "outputs": [
    {
     "name": "stderr",
     "output_type": "stream",
     "text": [
      "/anaconda2/lib/python3.6/site-packages/ipykernel_launcher.py:3: FutureWarning: The signature of `Series.to_csv` was aligned to that of `DataFrame.to_csv`, and argument 'header' will change its default value from False to True: please pass an explicit value to suppress this warning.\n",
      "  This is separate from the ipykernel package so we can avoid doing imports until\n"
     ]
    }
   ],
   "source": [
    "testsub1stim = allsub.X[((allsub['Num_block']==1) & (allsub['Sub_ID']==1))]\n",
    "\n",
    "testsub1stim.to_csv('testsub1stim.csv')"
   ]
  }
 ],
 "metadata": {
  "kernelspec": {
   "display_name": "Python 3",
   "language": "python",
   "name": "python3"
  },
  "language_info": {
   "codemirror_mode": {
    "name": "ipython",
    "version": 3
   },
   "file_extension": ".py",
   "mimetype": "text/x-python",
   "name": "python",
   "nbconvert_exporter": "python",
   "pygments_lexer": "ipython3",
   "version": "3.7.6"
  }
 },
 "nbformat": 4,
 "nbformat_minor": 2
}
