{
 "cells": [
  {
   "cell_type": "code",
   "execution_count": 1,
   "metadata": {},
   "outputs": [
    {
     "name": "stdout",
     "output_type": "stream",
     "text": [
      "S8-RF.pkl\n"
     ]
    }
   ],
   "source": [
    "# Find bonus!\n",
    "import numpy as np\n",
    "import pandas as pd\n",
    "from random import choices\n",
    "\n",
    "subID = '8-RF'\n",
    "\n",
    "block = ['S8-RF-B1-Space-20191030-171516.pkl',\n",
    "'S8-RF-B2-Number-20191030-174441.pkl',\n",
    "'S8-RF-B3-Space-20191030-180254.pkl',\n",
    "'S8-RF-B4-Number-20191030-183400.pkl',\n",
    "'S8-RF-B5-Number-20191111-172149.pkl',\n",
    "'S8-RF-B6-Space-20191111-174226.pkl',\n",
    "'S8-RF-B7-Number-20191111-181734.pkl',\n",
    "'S8-RF-B8-Space-20191111-183656.pkl']\n",
    "\n",
    "\n",
    "# Create dictionary\n",
    "data = {'Num_block':[],\n",
    "        'Block_ID':[],\n",
    "        'Trial_ID':[],\n",
    "        'Resp_loc':[], \n",
    "        'Resp_conf':[], \n",
    "        'Correct':[],\n",
    "        'RT_resp':[], \n",
    "        'RT_conf':[],\n",
    "        'Wager':[],\n",
    "        'x':[],\n",
    "        'N':[],\n",
    "        'x_mean':[],\n",
    "        'Mouse_track':[]}\n",
    "\n",
    "# Create dataframe\n",
    "concat = pd.DataFrame(data)\n",
    "\n",
    "for iblock in range(0,8):\n",
    "    currblock = pd.read_pickle(block[iblock])\n",
    "    concat = concat.append(currblock,ignore_index=True,sort=False)\n",
    "\n",
    "filename_pickle = str('S' + subID + '.pkl')\n",
    "concat.to_pickle(filename_pickle)\n",
    "\n",
    "filename_csv = str('S' + subID + '.csv')\n",
    "concat.to_csv(filename_csv)\n",
    "\n",
    "print(filename_pickle)\n"
   ]
  },
  {
   "cell_type": "code",
   "execution_count": 2,
   "metadata": {},
   "outputs": [
    {
     "name": "stdout",
     "output_type": "stream",
     "text": [
      "[4.0, 6.0, 0.0]\n",
      "3.3333333333333335\n"
     ]
    }
   ],
   "source": [
    "allwagers = concat.Wager\n",
    "selected_wagers = choices(allwagers,k=3)\n",
    "bonus = np.mean(selected_wagers)\n",
    "print(selected_wagers)\n",
    "print(bonus)"
   ]
  },
  {
   "cell_type": "code",
   "execution_count": 3,
   "metadata": {},
   "outputs": [
    {
     "data": {
      "text/plain": [
       "24.75"
      ]
     },
     "execution_count": 3,
     "metadata": {},
     "output_type": "execute_result"
    }
   ],
   "source": [
    "15*1.25 + 6"
   ]
  },
  {
   "cell_type": "code",
   "execution_count": null,
   "metadata": {},
   "outputs": [],
   "source": []
  }
 ],
 "metadata": {
  "kernelspec": {
   "display_name": "Python 3",
   "language": "python",
   "name": "python3"
  },
  "language_info": {
   "codemirror_mode": {
    "name": "ipython",
    "version": 3
   },
   "file_extension": ".py",
   "mimetype": "text/x-python",
   "name": "python",
   "nbconvert_exporter": "python",
   "pygments_lexer": "ipython3",
   "version": "3.6.8"
  }
 },
 "nbformat": 4,
 "nbformat_minor": 2
}
