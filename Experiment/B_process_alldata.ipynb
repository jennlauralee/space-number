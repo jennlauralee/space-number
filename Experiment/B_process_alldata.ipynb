{
 "cells": [
  {
   "cell_type": "code",
   "execution_count": 20,
   "metadata": {},
   "outputs": [],
   "source": [
    "import numpy as np\n",
    "import pandas as pd\n",
    "import scipy.io\n",
    "import os\n",
    "\n",
    "os.chdir('/Users/jennlauralee/Space-Number/DATA')\n",
    "\n",
    "subIDs = ['S1-NJ', 'S2-SC', 'S3-DA', 'S4-ZY', 'S5-DG', 'S6-MG', 'S7-BA', 'S8-RF', 'S9-HL', 'S10-TW']"
   ]
  },
  {
   "cell_type": "code",
   "execution_count": 21,
   "metadata": {},
   "outputs": [],
   "source": [
    "currsub = pd.read_pickle(subIDs[0] + '.pkl')"
   ]
  },
  {
   "cell_type": "code",
   "execution_count": 30,
   "metadata": {},
   "outputs": [],
   "source": [
    "allsub = pd.DataFrame()\n",
    "for i_sub in range(0,10):\n",
    "    currsub = pd.read_pickle(subIDs[i_sub] + '.pkl')\n",
    "    currsub = currsub.assign(Sub_ID = i_sub+1)\n",
    "    \n",
    "    allsub = allsub.append(currsub)"
   ]
  },
  {
   "cell_type": "code",
   "execution_count": 4,
   "metadata": {},
   "outputs": [],
   "source": [
    "#allsub.to_pickle('alldata.pkl')"
   ]
  },
  {
   "cell_type": "code",
   "execution_count": 9,
   "metadata": {},
   "outputs": [],
   "source": [
    "#allsub.to_csv('alldata.csv')"
   ]
  },
  {
   "cell_type": "code",
   "execution_count": 75,
   "metadata": {},
   "outputs": [
    {
     "name": "stderr",
     "output_type": "stream",
     "text": [
      "/anaconda2/lib/python3.6/site-packages/ipykernel_launcher.py:3: FutureWarning: The signature of `Series.to_csv` was aligned to that of `DataFrame.to_csv`, and argument 'header' will change its default value from False to True: please pass an explicit value to suppress this warning.\n",
      "  This is separate from the ipykernel package so we can avoid doing imports until\n"
     ]
    }
   ],
   "source": [
    "testsub1stim = allsub.X[((allsub['Num_block']==1) & (allsub['Sub_ID']==1))]\n",
    "\n",
    "testsub1stim.to_csv('testsub1stim.csv')"
   ]
  }
 ],
 "metadata": {
  "kernelspec": {
   "display_name": "Python 3",
   "language": "python",
   "name": "python3"
  },
  "language_info": {
   "codemirror_mode": {
    "name": "ipython",
    "version": 3
   },
   "file_extension": ".py",
   "mimetype": "text/x-python",
   "name": "python",
   "nbconvert_exporter": "python",
   "pygments_lexer": "ipython3",
   "version": "3.6.8"
  }
 },
 "nbformat": 4,
 "nbformat_minor": 2
}
